{
 "cells": [
  {
   "cell_type": "markdown",
   "id": "333f1985",
   "metadata": {},
   "source": [
    "# # TRABAJO BASH - Megan Trayling, Esther Lluch"
   ]
  },
  {
   "cell_type": "code",
   "execution_count": null,
   "id": "d6c69d35",
   "metadata": {},
   "outputs": [],
   "source": [
    "#EXTRAE EL NÚMERO DE SECUENCIAS QUE HAY EN EL ARCHIVO"
   ]
  },
  {
   "cell_type": "code",
   "execution_count": 1,
   "id": "7261a1b5",
   "metadata": {},
   "outputs": [
    {
     "ename": "SyntaxError",
     "evalue": "invalid syntax (1554273946.py, line 1)",
     "output_type": "error",
     "traceback": [
      "\u001b[0;36m  Cell \u001b[0;32mIn[1], line 1\u001b[0;36m\u001b[0m\n\u001b[0;31m    grep -c \">\" HBBmultifasta.txt #Para buscar el número de secuencias, nos da 7\u001b[0m\n\u001b[0m            ^\u001b[0m\n\u001b[0;31mSyntaxError\u001b[0m\u001b[0;31m:\u001b[0m invalid syntax\n"
     ]
    }
   ],
   "source": [
    "grep -c \">\" HBBmultifasta.txt #Para buscar el número de secuencias que hay en el archivo \n",
    "#Resultado = 7\n"
   ]
  },
  {
   "cell_type": "code",
   "execution_count": null,
   "id": "e393d4bd",
   "metadata": {},
   "outputs": [],
   "source": [
    "#EXTRAE EL IDENTIFICADOR DE LAS SECUENCIAS"
   ]
  },
  {
   "cell_type": "code",
   "execution_count": null,
   "id": "046f4bc1",
   "metadata": {},
   "outputs": [],
   "source": [
    "grep -E -o \"^>[A-Z]{2}\\_.{6}\\.[0-9]\" HBBmultifasta.txt \n",
    "#Buscamos los identificadores (NM)\n",
    "#En este caso identifcador de 6 números\n",
    "\n",
    "grep -E -o \"^>[A-Z]{2}\\_.{9}\\.[0-9]\" HBBmultifasta.txt #Identificadores de 9 números\n"
   ]
  },
  {
   "cell_type": "code",
   "execution_count": null,
   "id": "36016f58",
   "metadata": {},
   "outputs": [],
   "source": [
    "#EXTRAE LAS SUBSECUENCIAS DE TU ARCHIVO MULTIFASTA QUE EMPIECEN POR ATGC y QUE ACABEN POR GTAA. ¿HAY ALGUNA?"
   ]
  },
  {
   "cell_type": "code",
   "execution_count": null,
   "id": "b05d6447",
   "metadata": {},
   "outputs": [],
   "source": [
    "grep -E -o \"ATGC.*GTAA\" HBBmultifasta.txt\n",
    "#Comprobamos si existe alguna secuencia que empiece y acabe así\n",
    "#En nuestro caso, no existe ninguna"
   ]
  },
  {
   "cell_type": "code",
   "execution_count": null,
   "id": "5a595b20",
   "metadata": {},
   "outputs": [],
   "source": [
    "grep -c \"ATGC.*GTAA\" HBBmultifasta.txt\n",
    "#En caso de haberlas, vemos en qué sitio están y qué número"
   ]
  },
  {
   "cell_type": "code",
   "execution_count": null,
   "id": "67ffce38",
   "metadata": {},
   "outputs": [],
   "source": [
    "#ENZIMAS DE RESTRICCIÓN, SECUENCIAS GGATG, GGTGA y ACGT - SITIOS DE UNIÓN"
   ]
  },
  {
   "cell_type": "code",
   "execution_count": null,
   "id": "a93def7a",
   "metadata": {},
   "outputs": [],
   "source": [
    "grep -E -o -n \"GGATG|GGTGA|ACGT\" HBBmultifasta.txt\n",
    "#Buscamos las tres posibles secuencias en nuestro archivos\n",
    "#Vemos en qué líneas se encuentran"
   ]
  },
  {
   "cell_type": "code",
   "execution_count": null,
   "id": "fe7eda04",
   "metadata": {},
   "outputs": [],
   "source": [
    "grep -c \"GGATG\" HBBmultifasta.txt\n",
    "#Cuenta las secuencias GGATG en nuestro archivo\n",
    "#Resultado = 6"
   ]
  },
  {
   "cell_type": "code",
   "execution_count": null,
   "id": "24439d19",
   "metadata": {},
   "outputs": [],
   "source": [
    "grep -c \"GGTGA\" HBBmultifasta.txt\n",
    "#Cuenta las secuencias GGTGA en nuestro archivo\n",
    "#Resultado = 15"
   ]
  },
  {
   "cell_type": "code",
   "execution_count": null,
   "id": "0f87a795",
   "metadata": {},
   "outputs": [],
   "source": [
    "grep -c \"ACGT\" HBBmultifasta.txt\n",
    "#Cuenta las secuencias ACGT en nuestro archivo\n",
    "#Resultado = 13"
   ]
  },
  {
   "cell_type": "code",
   "execution_count": null,
   "id": "940b161c",
   "metadata": {},
   "outputs": [],
   "source": [
    "grep -n \"GGATG\" HBBmultifasta.txt\n",
    "#Nos muestra la línea del archivo donde se encuentra la secuencia GGATG"
   ]
  },
  {
   "cell_type": "code",
   "execution_count": null,
   "id": "54d62e45",
   "metadata": {},
   "outputs": [],
   "source": [
    "grep -o -n \"GGATG\" HBBmultifasta.txt\n",
    "#Nos muestra solo la secuencia de interés en las líneas correspondientes"
   ]
  },
  {
   "cell_type": "code",
   "execution_count": null,
   "id": "85c27094",
   "metadata": {},
   "outputs": [],
   "source": [
    "grep -n \"GGTGA\" HBBmultifasta.txt\n",
    "#Nos muestra la línea del archivo donde se encuentra la secuencia GGTGA"
   ]
  },
  {
   "cell_type": "code",
   "execution_count": null,
   "id": "4d738692",
   "metadata": {},
   "outputs": [],
   "source": [
    "grep -o -n \"GGTGA\" HBBmultifasta.txt\n",
    "#Nos muestra solo la secuencia de interés en las líneas correspondientes"
   ]
  },
  {
   "cell_type": "code",
   "execution_count": null,
   "id": "8e53b390",
   "metadata": {},
   "outputs": [],
   "source": [
    "grep -n \"ACGT\" HBBmultifasta.txt\n",
    "#Nos muestra la línea del archivo donde se encuentra la secuencia ACGT"
   ]
  },
  {
   "cell_type": "code",
   "execution_count": null,
   "id": "eb28d56e",
   "metadata": {},
   "outputs": [],
   "source": [
    "grep -o -n \"ACGT\" HBBmultifasta.txt\n",
    "#Nos muestra solo la secuencia de interés en las líneas correspondientes"
   ]
  },
  {
   "cell_type": "code",
   "execution_count": null,
   "id": "5ede4788",
   "metadata": {},
   "outputs": [],
   "source": [
    "#ARCHIVO PROTEÍNA HBB - CADENAS DE LA PROTEÍNA"
   ]
  },
  {
   "cell_type": "code",
   "execution_count": null,
   "id": "e46baa38",
   "metadata": {},
   "outputs": [],
   "source": [
    "grep -c \"TER\" HBBprot.txt #buscamos las cadenas de la proteína\n",
    "#Resultado = 0"
   ]
  },
  {
   "cell_type": "code",
   "execution_count": null,
   "id": "41ed9d67",
   "metadata": {},
   "outputs": [],
   "source": [
    "#ELIMINA TODAS LAS LÍNEAS QUE CONTENGAN INFORMACIÓN SOBRE PUENTES DE HIDRÓGENO + CREA NUEVO ARCHIVO"
   ]
  },
  {
   "cell_type": "code",
   "execution_count": null,
   "id": "edb7cdb0",
   "metadata": {},
   "outputs": [],
   "source": [
    "grep -E -n -c \"HETATM\" HBBprot.txt #Buscamos los puentes de hidrógeno\n",
    "#Resultado = 0"
   ]
  },
  {
   "cell_type": "code",
   "execution_count": null,
   "id": "1c1e37bc",
   "metadata": {},
   "outputs": [],
   "source": [
    "#CAMBIA PHE por ALA + NUEVO ARCHIVO"
   ]
  },
  {
   "cell_type": "code",
   "execution_count": null,
   "id": "c85e3cd5",
   "metadata": {},
   "outputs": [],
   "source": [
    "sed \"s/F/A/g\" HBBprot.txt>Cambiados.txt \n",
    "#Cambio F(Phe) por A(Ala) y lo guardo en un archivo nuevo llamado \"Cambiados.txt\""
   ]
  }
 ],
 "metadata": {
  "kernelspec": {
   "display_name": "Python 3 (ipykernel)",
   "language": "python",
   "name": "python3"
  },
  "language_info": {
   "codemirror_mode": {
    "name": "ipython",
    "version": 3
   },
   "file_extension": ".py",
   "mimetype": "text/x-python",
   "name": "python",
   "nbconvert_exporter": "python",
   "pygments_lexer": "ipython3",
   "version": "3.11.4"
  }
 },
 "nbformat": 4,
 "nbformat_minor": 5
}
