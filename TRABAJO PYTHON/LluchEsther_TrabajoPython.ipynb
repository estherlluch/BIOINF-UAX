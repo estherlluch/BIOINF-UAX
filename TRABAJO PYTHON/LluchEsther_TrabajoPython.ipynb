{
 "cells": [
  {
   "cell_type": "markdown",
   "metadata": {},
   "source": [
    "# TRABAJO DE PYTHON\n",
    "\n",
    "### Este trabajo cuenta el 30% de la nota. La entrega será el 5 de Noviembre a las 23:59.\n",
    "\n",
    "### Resuelve los siguientes ejercicios en Python sin usar expresiones regulares\n",
    "\n",
    "#### Utiliza tantas celdas de código como necesites\n",
    "\n",
    "##\n",
    "\n",
    "\n",
    "\n",
    "\n",
    "\n",
    "\n",
    "\n"
   ]
  },
  {
   "cell_type": "markdown",
   "metadata": {},
   "source": [
    "### 1.- BUSCA LA SECUENCIA COMPLEMENTARIA\n",
    "#### Devuelve la secuencia complementaria de la siguiente secuencia de ADN"
   ]
  },
  {
   "cell_type": "code",
   "execution_count": 158,
   "metadata": {},
   "outputs": [],
   "source": [
    "my_dna = \"ACTGATCGATTACGTATAGTATTTGCTATCATACATATATATCGATGCGTTCAT\""
   ]
  },
  {
   "cell_type": "code",
   "execution_count": 159,
   "metadata": {},
   "outputs": [],
   "source": [
    "def secuencia_complementaria (dna):\n",
    "    complemento = {\"A\": \"T\", \"T\": \"A\", \"C\":\"G\", \"G\":\"C\"}\n",
    "    complementaria = \"\"\n",
    "#Este comando define la función \"secuencia_complementaria\", tomando la cadena de ADN como argumento.\n",
    "#Creamos un diccionario con el \"complemento\", que contiene las bases de ADN como claves y sus bases complementarias como valores - definimos las reglas de apareamiento de bases\n",
    "#Creamos una cadena vacía \"complementaria\", para construir la secuencia complementaria\n",
    "\n",
    "    \n",
    "    for base in dna: #inicio de un bucle que recorre cada base en la cadena de ADN\n",
    "        if base in complemento:\n",
    "            complementaria += complemento[base]\n",
    "        else: \n",
    "            complementaria += base\n",
    "    return complementaria\n",
    "\n",
    "#Se verifica si la base actual en la cadena de ADN está presente en el diccionario \"complemento\".\n",
    "#En caso de estar, se realizará el cambio a la base complementaria del diccionario en la cadena \"complementaria\".\n",
    "#En caso de que la base no esté en el diccionario, se agregará la misma base a la cadena \"complementaria\" sin cambios. "
   ]
  },
  {
   "cell_type": "code",
   "execution_count": 160,
   "metadata": {},
   "outputs": [],
   "source": [
    "complementaria_dna = secuencia_complementaria(my_dna) \n",
    "#El código llama a la función \"secuencia_complementaria\" con el argumento \"my_dna\", para calcular la secuencia complementaria\n",
    "#Se almacena en la variable complementaria_dna"
   ]
  },
  {
   "cell_type": "code",
   "execution_count": 161,
   "metadata": {
    "scrolled": true
   },
   "outputs": [
    {
     "name": "stdout",
     "output_type": "stream",
     "text": [
      "Secuencia original: ACTGATCGATTACGTATAGTATTTGCTATCATACATATATATCGATGCGTTCAT\n"
     ]
    }
   ],
   "source": [
    "print(\"Secuencia original:\", my_dna)"
   ]
  },
  {
   "cell_type": "code",
   "execution_count": 162,
   "metadata": {},
   "outputs": [
    {
     "name": "stdout",
     "output_type": "stream",
     "text": [
      "Secuencia complementaria: TGACTAGCTAATGCATATCATAAACGATAGTATGTATATATAGCTACGCAAGTA\n"
     ]
    }
   ],
   "source": [
    "print (\"Secuencia complementaria:\", complementaria_dna)"
   ]
  },
  {
   "cell_type": "markdown",
   "metadata": {},
   "source": [
    "##\n",
    "### 2.- FRAGMENTOS DE RESTRICCION\n",
    "#### Obtén los fragmentos de restricción de EcoRI, que tiene un sitio de corte en G*AATTC (la posición de corte se indica por el *).\n",
    "#### No uses expresiones regulares. \n",
    "#### Pista: utiliza la función find()"
   ]
  },
  {
   "cell_type": "code",
   "execution_count": 163,
   "metadata": {
    "scrolled": true
   },
   "outputs": [],
   "source": [
    "my_dna = \"ACTGATCGATTACGTATAGTATTTGCTATGAATTCCATACATATATATCGATGCGTTCAT\""
   ]
  },
  {
   "cell_type": "code",
   "execution_count": 164,
   "metadata": {},
   "outputs": [],
   "source": [
    "ecori_corte = \"GAATTC\" #definimos que parte de secuencia corta EcoRI"
   ]
  },
  {
   "cell_type": "code",
   "execution_count": 165,
   "metadata": {},
   "outputs": [],
   "source": [
    "corte1 = my_dna.find(ecori_corte)\n",
    "#Buscamos el primer sitio de corte de EcoRI en la secuencia"
   ]
  },
  {
   "cell_type": "code",
   "execution_count": 166,
   "metadata": {},
   "outputs": [],
   "source": [
    "if corte1 != -1:\n",
    "    fragmento1 = my_dna[:corte1 + 1] #extraemos el fragmento 1 tras el corte de la enzima.\n",
    "    #En este caso, como el sitio de corte es tras la \"G\", encontraremos esta base en el primer fragmento\n",
    "    fragmento2 = my_dna[corte1 + len(\"G\"):]\n",
    "    #Extraemos el fragmento dos. En este caso, empezará tras el corte e EcoRI (\"AATTC\")"
   ]
  },
  {
   "cell_type": "code",
   "execution_count": 167,
   "metadata": {},
   "outputs": [
    {
     "name": "stdout",
     "output_type": "stream",
     "text": [
      "Fragmento 1 tras el corte de EcoRI: ACTGATCGATTACGTATAGTATTTGCTATG\n",
      "Fragmento 2 tras el corte de EcoRI: AATTCCATACATATATATCGATGCGTTCAT\n"
     ]
    }
   ],
   "source": [
    "print(\"Fragmento 1 tras el corte de EcoRI:\", fragmento1)\n",
    "print(\"Fragmento 2 tras el corte de EcoRI:\", fragmento2)"
   ]
  },
  {
   "cell_type": "markdown",
   "metadata": {},
   "source": [
    "##\n",
    "### 3.- ENCUENTRA LOS EXONES\n",
    "#### Encuentra los exones en la siguiente secuencia\n",
    "1. El primer exón va de la primera base a la base 63 (empieza a contar desde 0)\n",
    "2. El segundo exón va de la base 91 (contando desde 0) hasta el final\n",
    "3. Calcula el porcentaje de secuencia codificante\n",
    "4. Imprime en pantalla la secuencia original con los exones en mayúsculas y los intrones en minúsculas"
   ]
  },
  {
   "cell_type": "code",
   "execution_count": 168,
   "metadata": {},
   "outputs": [],
   "source": [
    "genomic_dna = \"ATCGATCGATCGATCGACTGACTAGTCATAGCTATGCATGTAGCTACTCGATCGATCGATCGATCGATCGATCGATCGATCGATCATGCTATCATCGATCGATATCGATGCATCGACTACTAT\""
   ]
  },
  {
   "cell_type": "code",
   "execution_count": 169,
   "metadata": {},
   "outputs": [],
   "source": [
    "exon1_inicio = 0\n",
    "exon1_fin = 63\n",
    "exon2_inicio = 91 \n",
    "#definimos dónde se encuentran los límites de los exones de nuestra secuencia"
   ]
  },
  {
   "cell_type": "code",
   "execution_count": 170,
   "metadata": {},
   "outputs": [],
   "source": [
    "exon1 = genomic_dna[exon1_inicio:exon1_fin]\n",
    "exon2 = genomic_dna[exon2_inicio:]\n",
    "intrones = genomic_dna[exon1_fin:exon2_inicio]\n",
    "#Extracción de los exones e intrones"
   ]
  },
  {
   "cell_type": "code",
   "execution_count": 171,
   "metadata": {},
   "outputs": [],
   "source": [
    "longitud_sec_cod = len(exon1) + len(exon2)\n",
    "longitud_total = len(genomic_dna)\n",
    "#Cálculo de la longitud total de la secuencia, y de la secuencia codificante (solo los exones)"
   ]
  },
  {
   "cell_type": "code",
   "execution_count": 172,
   "metadata": {},
   "outputs": [],
   "source": [
    "porcentaje_cod = (longitud_sec_cod / longitud_total) * 100\n",
    "#Cálculo del porcentaje de la longitud de secuencia codificante sobre el total"
   ]
  },
  {
   "cell_type": "code",
   "execution_count": 173,
   "metadata": {},
   "outputs": [],
   "source": [
    "DNA_proc = genomic_dna[:exon1_inicio] + exon1.upper() + intrones.lower() + exon2.upper()\n",
    "#Convertimos los exones a MAYÚSCULAS y los intrones a minúsculas"
   ]
  },
  {
   "cell_type": "code",
   "execution_count": 174,
   "metadata": {},
   "outputs": [
    {
     "name": "stdout",
     "output_type": "stream",
     "text": [
      "\n",
      "Porcentaje de secuencia codificante: 77.23577235772358 %\n",
      "Secuencia original con exones en mayúsculas e intrones en minúsculas:\n",
      "ATCGATCGATCGATCGACTGACTAGTCATAGCTATGCATGTAGCTACTCGATCGATCGATCGAtcgatcgatcgatcgatcgatcatgctaTCATCGATCGATATCGATGCATCGACTACTAT\n"
     ]
    }
   ],
   "source": [
    "print(\"\\nPorcentaje de secuencia codificante:\", porcentaje_cod, \"%\")\n",
    "print(\"Secuencia original con exones en mayúsculas e intrones en minúsculas:\")\n",
    "print(DNA_proc)"
   ]
  },
  {
   "cell_type": "markdown",
   "metadata": {},
   "source": [
    "##\n",
    "### 4.- ESCRIBE UN ARCHIVO FASTA\n",
    "#### Escribe un archivo FASTA que tenga las siguientes secuencias:\n",
    "1. ABC123 \tATCGTACGATCGATCGATCGCTAGACGTATCG\n",
    "2. DEF456 \tactgatcgacgatcgatcgatcacgact\n",
    "3. HIJ789 \tACTGAC-ACTGT--ACTGTA----CATGTG\n",
    "\n",
    "###### *Ten en cuenta que todas las secuencias deben tener solo ATGC caracteres y tienen que estar en mayúsculas\n",
    "###### Recuerda que las secuencias en FASTA empiezan por una línea \">identificador\" y la siguiente línea tiene la secuencia\n",
    "\n",
    "###### >ABC123\n",
    "###### ATCGTACGATCGATCGATCGCTAGACGTATCG\n",
    "###### >DEF456\n",
    "###### ACTGATCGACGATCGATCGATCACGACT\n",
    "###### >HIJ789\n",
    "###### ACTGACACTGTACTGTACATGTG"
   ]
  },
  {
   "cell_type": "code",
   "execution_count": 175,
   "metadata": {},
   "outputs": [
    {
     "name": "stdout",
     "output_type": "stream",
     "text": [
      "ABC123\n",
      "ATCGTACGATCGATCGATCGCTAGACGTATCG\n",
      "DEF456\n",
      "actgatcgacgatcgatcgatcacgact\n",
      "HIJ789\n",
      "ACTGAC-ACTGT--ACTGTA----CATGTG\n"
     ]
    }
   ],
   "source": [
    "d ={\n",
    "    'ABC123' :'ATCGTACGATCGATCGATCGCTAGACGTATCG',\n",
    "    'DEF456' : 'actgatcgacgatcgatcgatcacgact',\n",
    "    'HIJ789' : 'ACTGAC-ACTGT--ACTGTA----CATGTG'\n",
    "}\n",
    "\n",
    "for key in d.keys():\n",
    "    print(key) #Clave actual - identificador de la secuencia\n",
    "    print(d[key]) #Valor asociado a la clave - secuencia de ADN\n",
    "\n",
    "#Diccionario con las secuencias. Estructura que nos permite almacenar información mediante una key y un valor.\n",
    "#Tres pares de clave-valor. En este caso cada clave es el identificador de secuencia, y el valor asociado es una cadena de ADN"
   ]
  },
  {
   "cell_type": "code",
   "execution_count": 176,
   "metadata": {},
   "outputs": [
    {
     "data": {
      "text/plain": [
       "dict_keys(['ABC123', 'DEF456', 'HIJ789'])"
      ]
     },
     "execution_count": 176,
     "metadata": {},
     "output_type": "execute_result"
    }
   ],
   "source": [
    "d.keys() #para ver cada clave que hemos creado"
   ]
  },
  {
   "cell_type": "code",
   "execution_count": 177,
   "metadata": {},
   "outputs": [
    {
     "data": {
      "text/plain": [
       "'ATCGTACGATCGATCGATCGCTAGACGTATCG'"
      ]
     },
     "execution_count": 177,
     "metadata": {},
     "output_type": "execute_result"
    }
   ],
   "source": [
    "d['ABC123'] #Nos muestra el valor asociado a la clave \"ABC123\" del diccionario que hemos creado"
   ]
  },
  {
   "cell_type": "code",
   "execution_count": 178,
   "metadata": {},
   "outputs": [
    {
     "data": {
      "text/plain": [
       "'actgatcgacgatcgatcgatcacgact'"
      ]
     },
     "execution_count": 178,
     "metadata": {},
     "output_type": "execute_result"
    }
   ],
   "source": [
    "d['DEF456'] #vemos que esta secuencia está en minúsculas"
   ]
  },
  {
   "cell_type": "code",
   "execution_count": 179,
   "metadata": {},
   "outputs": [
    {
     "name": "stdout",
     "output_type": "stream",
     "text": [
      "ACTGATCGACGATCGATCGATCACGACT\n"
     ]
    }
   ],
   "source": [
    "d['DEF456'] = d['DEF456'].upper() #cambiamos la secuencia a mayúsculas\n",
    "print(d['DEF456'])"
   ]
  },
  {
   "cell_type": "code",
   "execution_count": 180,
   "metadata": {},
   "outputs": [
    {
     "data": {
      "text/plain": [
       "'ACTGAC-ACTGT--ACTGTA----CATGTG'"
      ]
     },
     "execution_count": 180,
     "metadata": {},
     "output_type": "execute_result"
    }
   ],
   "source": [
    "d['HIJ789'] #vemos caracteres diferentes a ATGC"
   ]
  },
  {
   "cell_type": "code",
   "execution_count": 181,
   "metadata": {},
   "outputs": [],
   "source": [
    "def limpiar_secuencia(secuencia):\n",
    "    secuencia_limpia = \"\".join(caracter for caracter in secuencia if caracter in \"ATGC\")\n",
    "    return secuencia_limpia\n",
    "\n",
    "#Creamos una función \"limpiar_secuencia\", que toma como argumento una cadena \"secuencia\"\n",
    "#En la 2ª línea se utiliza una comprensión de listas para recorrer cada carácter en la cadena \"secuencia\"\n",
    "#Se filtran solo los caracteres que son \"A\", \"T\", \"G\", \"C\" y los coloca en una lista. \n",
    "#\"join\" se utiliza para unir los caracteres válidos en una cadena\n",
    "#La función devuelve la cadena \"secuencia_limpia\" que contiene solo las bases de ADN, sin cualquier otro caracter"
   ]
  },
  {
   "cell_type": "code",
   "execution_count": 182,
   "metadata": {},
   "outputs": [
    {
     "name": "stdout",
     "output_type": "stream",
     "text": [
      "ACTGACACTGTACTGTACATGTG\n"
     ]
    }
   ],
   "source": [
    "d['HIJ789'] = limpiar_secuencia (d['HIJ789'])\n",
    "print(d['HIJ789']) \n",
    "#Se toma la secuencia de \"HIJ789\" y se aplica la función de \"limpiar_secuencia\", y se asigna el resultado de la función a la clave \"HIJ789\" en el diccionario.\n",
    "#Se reemplaza la secuencia de ADN original por su versión \"limpia\" y procesada"
   ]
  },
  {
   "cell_type": "code",
   "execution_count": 183,
   "metadata": {},
   "outputs": [
    {
     "name": "stdout",
     "output_type": "stream",
     "text": [
      "ABC123\n",
      "ATCGTACGATCGATCGATCGCTAGACGTATCG\n",
      "DEF456\n",
      "ACTGATCGACGATCGATCGATCACGACT\n",
      "HIJ789\n",
      "ACTGACACTGTACTGTACATGTG\n"
     ]
    }
   ],
   "source": [
    "for key in d.keys():\n",
    "    print(key)\n",
    "    print(d[key])   #comprobamos que cada secuencia ha sido corregida en el diccionario"
   ]
  },
  {
   "cell_type": "code",
   "execution_count": 138,
   "metadata": {},
   "outputs": [],
   "source": [
    "def diccionario_a_fasta(diccionario):\n",
    "    fasta = \" \"\n",
    "    for nombre, secuencia in diccionario.items():\n",
    "        fasta += f\">{nombre}\\n{secuencia}\\n\"\n",
    "    return fasta\n",
    "\n",
    "#Se define una nueva función \"diccionario_a_fasta\" que toma como argumento un diccionario.\n",
    "#Se crea una variable \"fasta\" como una cadena vacía que se utilizará para construir el formato FASTA\n",
    "#El bucle for se utiliza para recorrer los elementos del diccionario \"nombre\" - claves y \"secuencia\" - valores, con \"diccionario.items\"\n",
    "#En cada iteración del bucle, se añade una línea al formato FASTA al concatenar el símbolo \">\" seguido del nombre de la secuencia \"nombre\", un salto de línea, y luego la \"secuencia\", y otro salto de línea"
   ]
  },
  {
   "cell_type": "code",
   "execution_count": 139,
   "metadata": {},
   "outputs": [],
   "source": [
    "formato_fasta = diccionario_a_fasta(d)\n",
    "#Se llama a la función creada \"diccionario_a_fasta\" con el diccionario (d) como argumento.\n",
    "#Se genera un formato FASTA con todas las secuencias y nombres del diccionario\n",
    "#Se almacena en la variable \"formato_fasta\""
   ]
  },
  {
   "cell_type": "code",
   "execution_count": 140,
   "metadata": {},
   "outputs": [
    {
     "name": "stdout",
     "output_type": "stream",
     "text": [
      " >ABC123\n",
      "ATCGTACGATCGATCGATCGCTAGACGTATCG\n",
      ">DEF456\n",
      "ACTGATCGACGATCGATCGATCACGACT\n",
      ">HIJ789\n",
      "ACTGACACTGTACTGTACATGTG\n",
      "\n"
     ]
    }
   ],
   "source": [
    "print(formato_fasta)"
   ]
  },
  {
   "cell_type": "code",
   "execution_count": 141,
   "metadata": {},
   "outputs": [],
   "source": [
    "archivo_secuencias = \"secuencias.fasta\"\n",
    "#Se define el nombre del archivo de salida como \"secuencias.fasta\" y lo almaceno en la variable \"archivo_secuencias\""
   ]
  },
  {
   "cell_type": "code",
   "execution_count": 142,
   "metadata": {},
   "outputs": [],
   "source": [
    "with open(archivo_secuencias, 'w') as archivo:\n",
    "    archivo.write(formato_fasta)\n",
    "\n",
    "#Se abre el archivo \"secuencias.fasta\" en modo de escritura \"w\" utilizando el contexto \"with\".\n",
    "#Se asocia a la variable \"archivo\", permitiendo realizar escritos en él.\n",
    "#Escribo el contenido de la variable \"formato_fasta\" en el archivo \"Secuencias_fasta\" generado anteriormente\n"
   ]
  },
  {
   "cell_type": "code",
   "execution_count": 143,
   "metadata": {},
   "outputs": [
    {
     "name": "stdout",
     "output_type": "stream",
     "text": [
      "Se ha creado el archivo 'secuencias.fasta' con las secuencias en formato FASTA.\n"
     ]
    }
   ],
   "source": [
    "print(f\"Se ha creado el archivo '{archivo_secuencias}' con las secuencias en formato FASTA.\")"
   ]
  },
  {
   "cell_type": "markdown",
   "metadata": {},
   "source": [
    "##\n",
    "### 5.- ELIMINA ADAPTADORES\n",
    "#### El archivo input.txt tiene unas secuencias de ADN, una por línea. \n",
    "#### Todas las secuencias empiezan con el mismo adaptador que llega hasta la base 14. Escribe un programa que:\n",
    "1. Remueva el adaptador de la secuencia y escriba la secuencia limpia en un archivo\n",
    "2. Imprima en pantalla la longitud de cada secuencia limpia"
   ]
  },
  {
   "cell_type": "code",
   "execution_count": 144,
   "metadata": {},
   "outputs": [],
   "source": [
    "file = open (\"input.txt\")"
   ]
  },
  {
   "cell_type": "code",
   "execution_count": 145,
   "metadata": {},
   "outputs": [],
   "source": [
    "archivo_entrada = \"input.txt\" #archivo de entrada que queremos modificar "
   ]
  },
  {
   "cell_type": "code",
   "execution_count": 146,
   "metadata": {},
   "outputs": [],
   "source": [
    "longitud_adaptador = 14 #definimos el adaptador"
   ]
  },
  {
   "cell_type": "code",
   "execution_count": 147,
   "metadata": {},
   "outputs": [],
   "source": [
    "archivo_salida = \"secuencias_unicas.txt\" #donde se almacenará la secuencia limpia "
   ]
  },
  {
   "cell_type": "code",
   "execution_count": 148,
   "metadata": {},
   "outputs": [],
   "source": [
    "secuencias_unicas = set()\n",
    "#Se crea un conjunto vacío llamado \"secuencias_unicas\" donde se almacenarán elementos únicos"
   ]
  },
  {
   "cell_type": "code",
   "execution_count": 149,
   "metadata": {},
   "outputs": [],
   "source": [
    "with open(archivo_entrada, 'r') as entrada:\n",
    "    for linea in entrada:\n",
    "        secuencia = linea[longitud_adaptador:].strip()\n",
    "        secuencias_unicas.add(secuencia)\n",
    "\n",
    "#Abrimos el archivo de entrada en modo lectura \"r\" utilizando un bloque \"with\", garantizando que el archivo se cierre correctamente tras su uso. \n",
    "#El bucle \"for\" itera cada línea del archivo de entrada. Cada línea se almacena en la variable  \"línea\"\n",
    "#En cada iteración, se procesa la línea para extraer la secuencia. Se elimina una cantidad de caracteres (\"longitud_adaptador\") y cualquier espacio en blanco\n",
    "#La secuencia resultante se almacena en la variable \"secuencia\"\n",
    "#La secuencia procesada se agrega al conjunto \"secuencias_unicas\" utilizando el método \"add\". Solo se agregan secuencias únicas al conjunto"
   ]
  },
  {
   "cell_type": "code",
   "execution_count": 150,
   "metadata": {
    "scrolled": true
   },
   "outputs": [
    {
     "name": "stdout",
     "output_type": "stream",
     "text": [
      "Secuencia 1:\n",
      "ACTAGCTAGTCTCGATGCATGATCAGCTTAGCTGATGATGCTATGCA\n",
      "\n",
      "Secuencia 2:\n",
      "ACTGATCGATCGATCGATCGATCGATGCTATCGTCGT\n",
      "\n",
      "Secuencia 3:\n",
      "ATCGATCACGATCTATCGTACGTATGCATATCGATATCGATCGTAGTC\n",
      "\n",
      "Secuencia 4:\n",
      "TCGATCGATCGATCGATCGATCGATCGATCGATCGATCGATC\n",
      "\n",
      "Secuencia 5:\n",
      "ACTATCGATGATCTAGCTACGATCGTAGCTGTA\n",
      "\n"
     ]
    }
   ],
   "source": [
    "for i, secuencia in enumerate(secuencias_unicas, start=1):\n",
    "    print(f\"Secuencia {i}:\\n{secuencia}\\n\")\n",
    "#El bucle \"for\" itera a través de las secuencias almacenadas en el conjunto \"secuencias_unicas\" utilizando la función \"enumerate\".\n",
    "#Esta función agrega un contador (i en este caso) al proceso de iteración, lo que permite enumerar las secuencias a medida que se recorren.\n",
    "#El argumento start=1 indica que el contador comienza en 1 en lugar de 0."
   ]
  },
  {
   "cell_type": "code",
   "execution_count": 151,
   "metadata": {},
   "outputs": [],
   "source": [
    "with open(archivo_salida, 'w') as salida:\n",
    "    for secuencia in secuencias_unicas:\n",
    "        salida.write(f\"{secuencia}\\n\")\n",
    "\n",
    "#Escribimos el archivo de salida, utlizando el modo escritura \"w\" y el bloque \"with\".\n",
    "#El bucle \"for\" itera a través de las secuencias almacenadas en el conjunto \"secuencias_unicas\"\n",
    "#En cada iteración se escribe la secuencia en el archivo de salida \"write\", y se agrega un salto de línea tras cada secuencia."
   ]
  },
  {
   "cell_type": "code",
   "execution_count": 152,
   "metadata": {
    "scrolled": true
   },
   "outputs": [
    {
     "name": "stdout",
     "output_type": "stream",
     "text": [
      "Secuencia 1:\n",
      "Secuencia limpia: ACTAGCTAGTCTCGATGCATGATCAGCTTAGCTGATGATGCTATGCA\n",
      "Longitud de la secuencia limpia: 47\n",
      "\n",
      "Secuencia 2:\n",
      "Secuencia limpia: ACTGATCGATCGATCGATCGATCGATGCTATCGTCGT\n",
      "Longitud de la secuencia limpia: 37\n",
      "\n",
      "Secuencia 3:\n",
      "Secuencia limpia: ATCGATCACGATCTATCGTACGTATGCATATCGATATCGATCGTAGTC\n",
      "Longitud de la secuencia limpia: 48\n",
      "\n",
      "Secuencia 4:\n",
      "Secuencia limpia: TCGATCGATCGATCGATCGATCGATCGATCGATCGATCGATC\n",
      "Longitud de la secuencia limpia: 42\n",
      "\n",
      "Secuencia 5:\n",
      "Secuencia limpia: ACTATCGATGATCTAGCTACGATCGTAGCTGTA\n",
      "Longitud de la secuencia limpia: 33\n",
      "\n"
     ]
    }
   ],
   "source": [
    "for i, secuencia in enumerate(secuencias_unicas, start=1):\n",
    "    longitud = len(secuencia)\n",
    "    print(f\"Secuencia {i}:\")\n",
    "    print(f\"Secuencia limpia: {secuencia}\")\n",
    "    print(f\"Longitud de la secuencia limpia: {longitud}\\n\")\n",
    "\n",
    "#En cada iteración del bucle se calcula la longitud de la secuencia utilizando la función \"len\" y se almacena en la variable \"longitud\"\n",
    "#Se imprime la información incluyendo el número de secuencia (i), la secuencia limpia (secuencia) y la longitud de esta (longitud), agregando un salto de línea"
   ]
  },
  {
   "cell_type": "markdown",
   "metadata": {},
   "source": [
    "##\n",
    "### 6.- PORCENTAJE DE AMINO ACIDOS\n",
    "#### Escribe una función que tome dos argumentos: una secuencia de proteínas y un amino ácido. \n",
    "#### Queremos que devuelva el porcentaje del amino ácido en la secuencia de proteínas. \n",
    "#### Una vez que tengas hecha tu función, emplea las siguientes aserciones para comprobar tu código."
   ]
  },
  {
   "cell_type": "code",
   "execution_count": 153,
   "metadata": {},
   "outputs": [
    {
     "name": "stdout",
     "output_type": "stream",
     "text": [
      "El porcentaje de 'M' en la secuencia de proteínas es 5.00%\n"
     ]
    }
   ],
   "source": [
    "def my_function(secuencia_proteinas, aminoacido):\n",
    "    secuencia_proteinas = secuencia_proteinas.upper()\n",
    "    aminoacido = aminoacido.upper ()\n",
    "    #Creamos una función donde se toman dos argumentos: \"secuencia_proteinas\" y \"aminoacido\"\n",
    "    #Convertimos primero toda la secuencia y el aminoácido a mayúsculas para poder interpretar\n",
    "    \n",
    "    conteo_aminoacido = secuencia_proteinas.count(aminoacido)\n",
    "    longitud_secuencia = len(secuencia_proteinas)\n",
    "    \n",
    "    #La función cuenta la cantidad de veces que aparece el aminoácido en la secuencia de proteínas (\"count\").\n",
    "    #Calcula la longitud de la secuencia de proteínas con \"len\"\n",
    "\n",
    "    if longitud_secuencia == 0:\n",
    "        return 0.0 \n",
    "    # Si la secuencia está vacía, el porcentaje es 0.\n",
    "\n",
    "    porcentaje = (conteo_aminoacido / longitud_secuencia) * 100\n",
    "    return porcentaje\n",
    "    #Si la secuencia no está vacía, se calcula el porcentaje dividiendo el conteo del Aa por la longitud de la secuencia (x100)\n",
    "    #Nos da el porcentaje de un Aa concreto en la secuencia de proteínas\n",
    "\n",
    "# Llama a la función con los datos proporcionados y muestra el resultado\n",
    "resultado = my_function (\"MSRSLLLRFLLFLLLLPPLP\", \"M\")\n",
    "print(f\"El porcentaje de 'M' en la secuencia de proteínas es {resultado:.2f}%\")\n"
   ]
  },
  {
   "cell_type": "code",
   "execution_count": 154,
   "metadata": {},
   "outputs": [
    {
     "name": "stdout",
     "output_type": "stream",
     "text": [
      "El porcentaje de 'R' en la secuencia de proteínas es 10.00%\n"
     ]
    }
   ],
   "source": [
    "#Siguiente función\n",
    "resultado = my_function(\"MSRSLLLRFLLFLLLLPPLP\", \"r\")\n",
    "print(f\"El porcentaje de 'R' en la secuencia de proteínas es {resultado:.2f}%\")\n"
   ]
  },
  {
   "cell_type": "code",
   "execution_count": 155,
   "metadata": {},
   "outputs": [
    {
     "name": "stdout",
     "output_type": "stream",
     "text": [
      "El porcentaje de 'L' en la secuencia de proteínas es 50.00%\n"
     ]
    }
   ],
   "source": [
    "resultado = my_function(\"msrslllrfllfllllpplp\", \"L\")\n",
    "print(f\"El porcentaje de 'L' en la secuencia de proteínas es {resultado:.2f}%\")"
   ]
  },
  {
   "cell_type": "code",
   "execution_count": 156,
   "metadata": {},
   "outputs": [
    {
     "name": "stdout",
     "output_type": "stream",
     "text": [
      "El porcentaje de 'Y' en la secuencia de proteínas es 0.00%\n"
     ]
    }
   ],
   "source": [
    "resultado = my_function(\"MSRSLLLRFLLFLLLLPPLP\", \"Y\")\n",
    "print(f\"El porcentaje de 'Y' en la secuencia de proteínas es {resultado:.2f}%\")"
   ]
  },
  {
   "cell_type": "code",
   "execution_count": 157,
   "metadata": {},
   "outputs": [],
   "source": [
    "assert my_function(\"MSRSLLLRFLLFLLLLPPLP\", \"M\") == 5\n",
    "assert my_function(\"MSRSLLLRFLLFLLLLPPLP\", \"r\") == 10\n",
    "assert my_function(\"msrslllrfllfllllpplp\", \"L\") == 50\n",
    "assert my_function(\"MSRSLLLRFLLFLLLLPPLP\", \"Y\") == 0\n",
    "#Las aserciones pasan sin generar errores solo cuando la función está implementada correctamente. "
   ]
  }
 ],
 "metadata": {
  "kernelspec": {
   "display_name": "Python 3 (ipykernel)",
   "language": "python",
   "name": "python3"
  },
  "language_info": {
   "codemirror_mode": {
    "name": "ipython",
    "version": 3
   },
   "file_extension": ".py",
   "mimetype": "text/x-python",
   "name": "python",
   "nbconvert_exporter": "python",
   "pygments_lexer": "ipython3",
   "version": "3.11.4"
  }
 },
 "nbformat": 4,
 "nbformat_minor": 4
}
